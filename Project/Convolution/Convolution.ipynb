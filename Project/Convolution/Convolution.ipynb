{
 "cells": [
  {
   "cell_type": "code",
   "execution_count": 1,
   "metadata": {},
   "outputs": [],
   "source": [
    "import numpy as np\n",
    "from matplotlib import pyplot as plt\n",
    "\n",
    "# for building the animation\n",
    "import os\n",
    "import imageio\n",
    "\n",
    "# for doing the convolution\n",
    "from numpy.fft import fft2, ifft2"
   ]
  },
  {
   "cell_type": "markdown",
   "metadata": {},
   "source": [
    "# Defining Some Useful Functions"
   ]
  },
  {
   "cell_type": "code",
   "execution_count": 2,
   "metadata": {},
   "outputs": [],
   "source": [
    "def mesh_builder(n, mesh_size):\n",
    "    #this mesh works as the mass distribution\n",
    "    #build a square mesh for the points (mesh_size * mesh_size)\n",
    "    #n is the number of points\n",
    "    \n",
    "    m = np.zeros((mesh_size, mesh_size))\n",
    "    counter = 0\n",
    "    \n",
    "    #putting n random points in the mesh (where there is a object: m=1, where none: m=0)\n",
    "    while(True):\n",
    "        a = int(mesh_size* np.random.random())\n",
    "        b = int(mesh_size* np.random.random())\n",
    "            \n",
    "        if m[a,b] == 0:\n",
    "            m[a,b] = 1\n",
    "            counter += 1\n",
    "                \n",
    "        if counter == n:\n",
    "            break\n",
    "     \n",
    "    print ('total number of points is : ' + repr(counter))  \n",
    "        \n",
    "    return m\n",
    "\n",
    "\n",
    "def mesh_to_xy(m, n):\n",
    "    #building the xy from the mesh\n",
    "    #x[:, 0] showing the x component of locations\n",
    "    #x[:, 1] showing the y component of locations\n",
    "    #x: [n,2]\n",
    "    b = np.shape(m)\n",
    "    mesh_size= b[0]\n",
    "          \n",
    "    xy = np.zeros((n,2))\n",
    "    counter = 0\n",
    "    for i in range (mesh_size):\n",
    "        for j in range(mesh_size):\n",
    "            if m[i,j]== 1:\n",
    "                xy[counter, 0] = i\n",
    "                xy[counter, 1] = j\n",
    "                counter +=1\n",
    "                    \n",
    "    return xy\n",
    "\n",
    "def xy_to_mesh(xy, mesh_size):\n",
    "    #building the mesh from xy\n",
    "    b=np.shape(xy)\n",
    "    n= b[0]\n",
    "    \n",
    "    m=np.zeros((mesh_size, mesh_size))\n",
    "    for i in range(n):\n",
    "        x= int(xy[i, 0])\n",
    "        y=int(xy[i, 1])\n",
    "        m[x, y]= 1\n",
    "        \n",
    "    return m\n",
    "       \n",
    "    \n",
    "def point_charge_pot(mesh_size, r0):\n",
    "    #r0=1\n",
    "    #calculates the softend potential from a point charge on a 2D mesh of size (mesh_size * mesh_size)\n",
    "    #r0 is the radius of softening\n",
    "\n",
    "    \n",
    "    dx = np.zeros((mesh_size, mesh_size))\n",
    "    dy = np.zeros((mesh_size, mesh_size))\n",
    "    r= np.zeros((mesh_size, mesh_size))\n",
    "    pot_2D = np.zeros((mesh_size, mesh_size))\n",
    "    \n",
    "    #place of the point charge\n",
    "    c = int(mesh_size/2)\n",
    "    \n",
    "    for i in range(mesh_size):\n",
    "        for j in range(mesh_size):\n",
    "            dx[i, j]= abs(i- c)\n",
    "            dy[i, j]= abs(j- c)\n",
    "            r[i, j]= np.sqrt(dx[i,j]**2 + dy[i,j]**2)\n",
    "            if r[i, j] < r0 :\n",
    "                r[i,j]= r0\n",
    "             \n",
    "            #potential is: - 1 / r\n",
    "            pot_2D[i,j] = -1 * (r[i,j]** -1)\n",
    "            \n",
    "    return pot_2D\n",
    "\n",
    "def potential_calc(m, r0):\n",
    "    #calculates the potential of a mass distribution\n",
    "    #by convolving the potential of a point charge with the mass density (mesh)\n",
    "    \n",
    "    b=np.shape(m)\n",
    "    mesh_size= b[0]\n",
    "    \n",
    "    rho = m\n",
    "    pot= point_charge_pot(mesh_size, r0)\n",
    "    \n",
    "    ft1= fft2(rho)\n",
    "    ft2= fft2(pot)\n",
    "    \n",
    "    return np.real(ifft2(ft1 * ft2)) \n",
    "\n",
    "def force_calc(pot):\n",
    "    # force = - gradiant(potential)\n",
    "    f_x, f_y= np.gradient(pot)\n",
    "    f_x = -1 *f_x\n",
    "    f_y = -1 *f_y\n",
    "    return 1000*f_x, 1000*f_y\n",
    "\n",
    "def f_change(xy, fx, fy, n):\n",
    "    #to change the shape of the force from (m*m) to (n, 2)\n",
    "\n",
    "    f = np.zeros((n, 2))\n",
    "    for i in range(n):\n",
    "        x= int(xy[i, 0])\n",
    "        y= int(xy[i, 1])\n",
    "        f[i, 0]= fx[x, y]\n",
    "        f[i, 1]= fy[x, y]\n",
    "\n",
    "    return f\n",
    "\n",
    "def p_change(xy, p, n):\n",
    "    #to change the shape of the potential from (m*m) to (n, 1)\n",
    "    # only having the potential for meshs with a point\n",
    "    #and to calculate the potential from all particles\n",
    "    p_new = np.zeros((n, 1))\n",
    "    for i in range(n):\n",
    "        x= int(xy[i, 0])\n",
    "        y= int(xy[i, 1])\n",
    "        p_new[i]= p[x, y]\n",
    "        p_tot = np.sum(p_new)\n",
    "\n",
    "    return p_tot\n",
    "\n",
    "def kin_calc(v, n):\n",
    "    #shape of v is (n,2)\n",
    "    #to calculate the kintetic energy of all particles\n",
    "    kin = np.zeros((n))\n",
    "    for i in range (n):\n",
    "        kin[i] = (v[i, 0]**2 + v[i, 1]**2)\n",
    "        \n",
    "    kin_tot = np.sum (kin)\n",
    "    return kin_tot"
   ]
  },
  {
   "cell_type": "markdown",
   "metadata": {},
   "source": [
    "# Checking the functions"
   ]
  },
  {
   "cell_type": "code",
   "execution_count": 3,
   "metadata": {},
   "outputs": [
    {
     "name": "stdout",
     "output_type": "stream",
     "text": [
      "total number of points is : 5\n"
     ]
    },
    {
     "data": {
      "image/png": "[encoded data removed]",
      "text/plain": [
       "<Figure size 432x288 with 2 Axes>"
      ]
     },
     "metadata": {
      "needs_background": "light"
     },
     "output_type": "display_data"
    }
   ],
   "source": [
    "#checking the mesh_builder function\n",
    "a= mesh_builder(5, 10)\n",
    "plt.imshow(a)\n",
    "plt.colorbar()\n",
    "plt.show()"
   ]
  },
  {
   "cell_type": "code",
   "execution_count": 4,
   "metadata": {},
   "outputs": [
    {
     "name": "stdout",
     "output_type": "stream",
     "text": [
      "total number of points is : 5\n",
      "True\n"
     ]
    }
   ],
   "source": [
    "#to check if mesh_to_xy and xy_to_mesh works fine\n",
    "#If the result is \"True\", they work well\n",
    "a= mesh_builder(5, 10)\n",
    "b = mesh_to_xy(a, 5)\n",
    "c = xy_to_mesh(b, 10)\n",
    "\n",
    "comparison = a == c\n",
    "equal_arrays = comparison.all()\n",
    "\n",
    "print(equal_arrays)"
   ]
  },
  {
   "cell_type": "code",
   "execution_count": 5,
   "metadata": {},
   "outputs": [
    {
     "data": {
      "image/png": "[encoded data removed]",
      "text/plain": [
       "<Figure size 432x288 with 2 Axes>"
      ]
     },
     "metadata": {
      "needs_background": "light"
     },
     "output_type": "display_data"
    }
   ],
   "source": [
    "#to check if the potential of a point charge is built correctly\n",
    "a= point_charge_pot(10, 1)\n",
    "plt.imshow(a)\n",
    "plt.colorbar()\n",
    "plt.show()\n",
    "#print(a)"
   ]
  },
  {
   "cell_type": "code",
   "execution_count": 6,
   "metadata": {},
   "outputs": [
    {
     "name": "stdout",
     "output_type": "stream",
     "text": [
      "total number of points is : 1\n"
     ]
    },
    {
     "data": {
      "image/png": "[encoded data removed]",
      "text/plain": [
       "<Figure size 432x288 with 2 Axes>"
      ]
     },
     "metadata": {
      "needs_background": "light"
     },
     "output_type": "display_data"
    }
   ],
   "source": [
    "#to check if the whole potential is built correctly\n",
    "a = potential_calc(mesh_builder(1, 10), 1)\n",
    "plt. imshow(a)\n",
    "plt.colorbar()\n",
    "plt.show()\n",
    "#print (a)"
   ]
  },
  {
   "cell_type": "code",
   "execution_count": 7,
   "metadata": {},
   "outputs": [
    {
     "name": "stdout",
     "output_type": "stream",
     "text": [
      "total number of points is : 10\n",
      "(10, 10)\n"
     ]
    },
    {
     "data": {
      "image/png": "[encoded data removed]",
      "text/plain": [
       "<Figure size 432x288 with 2 Axes>"
      ]
     },
     "metadata": {
      "needs_background": "light"
     },
     "output_type": "display_data"
    }
   ],
   "source": [
    "#to check if forces are built correctly\n",
    "fx, fy= force_calc(potential_calc(mesh_builder(10, 10), 0.1))\n",
    "print(np.shape(fx))\n",
    "plt.imshow(fy)\n",
    "plt.colorbar()\n",
    "plt.show()"
   ]
  },
  {
   "cell_type": "code",
   "execution_count": 8,
   "metadata": {},
   "outputs": [
    {
     "name": "stdout",
     "output_type": "stream",
     "text": [
      "total number of points is : 10\n",
      "(10, 2)\n"
     ]
    }
   ],
   "source": [
    "#to check the force change\n",
    "f= f_change(mesh_to_xy(mesh_builder(10, 10), 10), fx, fy, 10)\n",
    "print(np.shape(f))"
   ]
  },
  {
   "cell_type": "code",
   "execution_count": 9,
   "metadata": {},
   "outputs": [],
   "source": [
    "class particles:\n",
    "    def __init__(self, n, r0, mesh_size, dt):\n",
    "        #mesh size should be bigger than sqrt(n)\n",
    "        \n",
    "        self.n=n\n",
    "        self.mesh_size= mesh_size\n",
    "        self.r0 = r0 \n",
    "        self.dt = dt\n",
    "        \n",
    "        self.xy = mesh_to_xy(mesh_builder(self.n, self.mesh_size), self.n)\n",
    "    \n",
    "        #force and velocity\n",
    "        self.v= np.zeros((self.n,2))\n",
    "        self.fx= np.zeros((self.mesh_size, self.mesh_size))\n",
    "        self.fy= np.zeros((self.mesh_size, self.mesh_size))\n",
    "        \n",
    "    def update(self):\n",
    "    #updates the places and velocity\n",
    "    \n",
    "        #updating the places\n",
    "           \n",
    "        self.xy = self.xy+ self.v*self.dt\n",
    "        #print(self.xy)\n",
    "        #finding the first kin\n",
    "        kin1 = kin_calc(self.v , self.n)\n",
    "        #print('kin1: '+ repr(kin1))\n",
    "                  \n",
    "        #updating the velocity\n",
    "                  \n",
    "        f = f_change(self.xy, self.fx, self.fy, self.n)\n",
    "\n",
    "        self.v = self.v + f * self.dt\n",
    "\n",
    "        #finding the second kin    \n",
    "        \n",
    "        kin2 = kin_calc(self.v , self.n)\n",
    "        #print('kin2: '+ repr(kin2))\n",
    "        \n",
    "        #updating the force\n",
    "        m = xy_to_mesh(self.xy, self.mesh_size)\n",
    "        p = potential_calc(m, self.r0)\n",
    "        pot = p_change(self.xy, p, self.n)\n",
    "        self.fx, self.fy = force_calc(p)\n",
    "\n",
    "        #combining kins\n",
    "        kin = 0.5 * (kin1 + kin2)\n",
    "\n",
    "        #finding the total energy\n",
    "        energy_t = pot + kin\n",
    "        #print('shape pot' + repr(np.shape(pot)))\n",
    "        #print('shape kin' + repr(np.shape(kin)))  \n",
    "        #print (pot, kin, energy_t)\n",
    "\n",
    "        return pot/self.n, kin/(self.n), (kin+pot)/(self.n)"
   ]
  },
  {
   "cell_type": "code",
   "execution_count": 10,
   "metadata": {},
   "outputs": [
    {
     "name": "stdout",
     "output_type": "stream",
     "text": [
      "total number of points is : 1000\n"
     ]
    },
    {
     "ename": "IndexError",
     "evalue": "index 200 is out of bounds for axis 1 with size 200",
     "output_type": "error",
     "traceback": [
      "\u001b[0;31m---------------------------------------------------------------------------\u001b[0m",
      "\u001b[0;31mIndexError\u001b[0m                                Traceback (most recent call last)",
      "\u001b[0;32m<ipython-input-10-ed99e5e596fb>\u001b[0m in \u001b[0;36m<module>\u001b[0;34m\u001b[0m\n\u001b[1;32m     16\u001b[0m     \u001b[0;31m#plt.pause(0.001)\u001b[0m\u001b[0;34m\u001b[0m\u001b[0;34m\u001b[0m\u001b[0;34m\u001b[0m\u001b[0m\n\u001b[1;32m     17\u001b[0m \u001b[0;34m\u001b[0m\u001b[0m\n\u001b[0;32m---> 18\u001b[0;31m     \u001b[0mpot\u001b[0m\u001b[0;34m[\u001b[0m\u001b[0mi\u001b[0m\u001b[0;34m]\u001b[0m\u001b[0;34m,\u001b[0m \u001b[0mkin\u001b[0m\u001b[0;34m[\u001b[0m\u001b[0mi\u001b[0m\u001b[0;34m]\u001b[0m\u001b[0;34m,\u001b[0m \u001b[0me_t\u001b[0m\u001b[0;34m[\u001b[0m\u001b[0mi\u001b[0m\u001b[0;34m]\u001b[0m \u001b[0;34m=\u001b[0m\u001b[0mparts\u001b[0m\u001b[0;34m.\u001b[0m\u001b[0mupdate\u001b[0m\u001b[0;34m(\u001b[0m\u001b[0;34m)\u001b[0m\u001b[0;34m\u001b[0m\u001b[0;34m\u001b[0m\u001b[0m\n\u001b[0m\u001b[1;32m     19\u001b[0m     \u001b[0ma\u001b[0m\u001b[0;34m.\u001b[0m\u001b[0mwrite\u001b[0m\u001b[0;34m(\u001b[0m\u001b[0;34m'   Kintetic: '\u001b[0m\u001b[0;34m+\u001b[0m \u001b[0mrepr\u001b[0m\u001b[0;34m(\u001b[0m\u001b[0mkin\u001b[0m\u001b[0;34m[\u001b[0m\u001b[0mi\u001b[0m\u001b[0;34m]\u001b[0m\u001b[0;34m)\u001b[0m \u001b[0;34m+\u001b[0m\u001b[0;34m'        Potential: '\u001b[0m\u001b[0;34m+\u001b[0m \u001b[0mrepr\u001b[0m\u001b[0;34m(\u001b[0m\u001b[0mpot\u001b[0m\u001b[0;34m[\u001b[0m\u001b[0mi\u001b[0m\u001b[0;34m]\u001b[0m\u001b[0;34m)\u001b[0m \u001b[0;34m+\u001b[0m \u001b[0;34m'       Total Energy: '\u001b[0m\u001b[0;34m+\u001b[0m \u001b[0mrepr\u001b[0m\u001b[0;34m(\u001b[0m\u001b[0me_t\u001b[0m\u001b[0;34m[\u001b[0m\u001b[0mi\u001b[0m\u001b[0;34m]\u001b[0m\u001b[0;34m)\u001b[0m\u001b[0;34m+\u001b[0m \u001b[0;34m'\\n'\u001b[0m\u001b[0;34m)\u001b[0m\u001b[0;34m\u001b[0m\u001b[0;34m\u001b[0m\u001b[0m\n\u001b[1;32m     20\u001b[0m \u001b[0;34m\u001b[0m\u001b[0m\n",
      "\u001b[0;32m<ipython-input-9-f0fb0059b0c6>\u001b[0m in \u001b[0;36mupdate\u001b[0;34m(self)\u001b[0m\n\u001b[1;32m     28\u001b[0m         \u001b[0;31m#updating the velocity\u001b[0m\u001b[0;34m\u001b[0m\u001b[0;34m\u001b[0m\u001b[0;34m\u001b[0m\u001b[0m\n\u001b[1;32m     29\u001b[0m \u001b[0;34m\u001b[0m\u001b[0m\n\u001b[0;32m---> 30\u001b[0;31m         \u001b[0mf\u001b[0m \u001b[0;34m=\u001b[0m \u001b[0mf_change\u001b[0m\u001b[0;34m(\u001b[0m\u001b[0mself\u001b[0m\u001b[0;34m.\u001b[0m\u001b[0mxy\u001b[0m\u001b[0;34m,\u001b[0m \u001b[0mself\u001b[0m\u001b[0;34m.\u001b[0m\u001b[0mfx\u001b[0m\u001b[0;34m,\u001b[0m \u001b[0mself\u001b[0m\u001b[0;34m.\u001b[0m\u001b[0mfy\u001b[0m\u001b[0;34m,\u001b[0m \u001b[0mself\u001b[0m\u001b[0;34m.\u001b[0m\u001b[0mn\u001b[0m\u001b[0;34m)\u001b[0m\u001b[0;34m\u001b[0m\u001b[0;34m\u001b[0m\u001b[0m\n\u001b[0m\u001b[1;32m     31\u001b[0m \u001b[0;34m\u001b[0m\u001b[0m\n\u001b[1;32m     32\u001b[0m         \u001b[0mself\u001b[0m\u001b[0;34m.\u001b[0m\u001b[0mv\u001b[0m \u001b[0;34m=\u001b[0m \u001b[0mself\u001b[0m\u001b[0;34m.\u001b[0m\u001b[0mv\u001b[0m \u001b[0;34m+\u001b[0m \u001b[0mf\u001b[0m \u001b[0;34m*\u001b[0m \u001b[0mself\u001b[0m\u001b[0;34m.\u001b[0m\u001b[0mdt\u001b[0m\u001b[0;34m\u001b[0m\u001b[0;34m\u001b[0m\u001b[0m\n",
      "\u001b[0;32m<ipython-input-2-242fdaf2a583>\u001b[0m in \u001b[0;36mf_change\u001b[0;34m(xy, fx, fy, n)\u001b[0m\n\u001b[1;32m    113\u001b[0m         \u001b[0mx\u001b[0m\u001b[0;34m=\u001b[0m \u001b[0mint\u001b[0m\u001b[0;34m(\u001b[0m\u001b[0mxy\u001b[0m\u001b[0;34m[\u001b[0m\u001b[0mi\u001b[0m\u001b[0;34m,\u001b[0m \u001b[0;36m0\u001b[0m\u001b[0;34m]\u001b[0m\u001b[0;34m)\u001b[0m\u001b[0;34m\u001b[0m\u001b[0;34m\u001b[0m\u001b[0m\n\u001b[1;32m    114\u001b[0m         \u001b[0my\u001b[0m\u001b[0;34m=\u001b[0m \u001b[0mint\u001b[0m\u001b[0;34m(\u001b[0m\u001b[0mxy\u001b[0m\u001b[0;34m[\u001b[0m\u001b[0mi\u001b[0m\u001b[0;34m,\u001b[0m \u001b[0;36m1\u001b[0m\u001b[0;34m]\u001b[0m\u001b[0;34m)\u001b[0m\u001b[0;34m\u001b[0m\u001b[0;34m\u001b[0m\u001b[0m\n\u001b[0;32m--> 115\u001b[0;31m         \u001b[0mf\u001b[0m\u001b[0;34m[\u001b[0m\u001b[0mi\u001b[0m\u001b[0;34m,\u001b[0m \u001b[0;36m0\u001b[0m\u001b[0;34m]\u001b[0m\u001b[0;34m=\u001b[0m \u001b[0mfx\u001b[0m\u001b[0;34m[\u001b[0m\u001b[0mx\u001b[0m\u001b[0;34m,\u001b[0m \u001b[0my\u001b[0m\u001b[0;34m]\u001b[0m\u001b[0;34m\u001b[0m\u001b[0;34m\u001b[0m\u001b[0m\n\u001b[0m\u001b[1;32m    116\u001b[0m         \u001b[0mf\u001b[0m\u001b[0;34m[\u001b[0m\u001b[0mi\u001b[0m\u001b[0;34m,\u001b[0m \u001b[0;36m1\u001b[0m\u001b[0;34m]\u001b[0m\u001b[0;34m=\u001b[0m \u001b[0mfy\u001b[0m\u001b[0;34m[\u001b[0m\u001b[0mx\u001b[0m\u001b[0;34m,\u001b[0m \u001b[0my\u001b[0m\u001b[0;34m]\u001b[0m\u001b[0;34m\u001b[0m\u001b[0;34m\u001b[0m\u001b[0m\n\u001b[1;32m    117\u001b[0m \u001b[0;34m\u001b[0m\u001b[0m\n",
      "\u001b[0;31mIndexError\u001b[0m: index 200 is out of bounds for axis 1 with size 200"
     ]
    }
   ],
   "source": [
    "parts=particles(n=1000, r0= 1, mesh_size= 200, dt=3e-4)\n",
    "plt.ion()\n",
    "nstep=500\n",
    "pot = kin = e_t = np.zeros((nstep))\n",
    "a=open('energy_new.txt','w')\n",
    "filenames = []\n",
    "for i in range(nstep):\n",
    "    plt.clf()\n",
    "    plt.plot(parts.xy[:,0],parts.xy[:,1],'.')\n",
    "    filename = f'{i}.png'\n",
    "    filenames.append(filename)\n",
    "    \n",
    "    # save frame\n",
    "    plt.savefig(filename)\n",
    "    plt.close()\n",
    "    #plt.pause(0.001)\n",
    "    \n",
    "    pot[i], kin[i], e_t[i] =parts.update()\n",
    "    a.write('   Kintetic: '+ repr(kin[i]) +'        Potential: '+ repr(pot[i]) + '       Total Energy: '+ repr(e_t[i])+ '\\n') \n",
    "    \n",
    "a.close()\n",
    "    \n",
    "# build gif\n",
    "with imageio.get_writer('particle.gif', mode='I') as writer:\n",
    "    for filename in filenames:\n",
    "        image = imageio.imread(filename)\n",
    "        writer.append_data(image)\n",
    "        \n",
    "# Remove files\n",
    "for filename in set(filenames):\n",
    "    os.remove(filename)\n",
    "    "
   ]
  }
 ],
 "metadata": {
  "kernelspec": {
   "display_name": "Python 3",
   "language": "python",
   "name": "python3"
  },
  "language_info": {
   "codemirror_mode": {
    "name": "ipython",
    "version": 3
   },
   "file_extension": ".py",
   "mimetype": "text/x-python",
   "name": "python",
   "nbconvert_exporter": "python",
   "pygments_lexer": "ipython3",
   "version": "3.8.5"
  }
 },
 "nbformat": 4,
 "nbformat_minor": 4
}
