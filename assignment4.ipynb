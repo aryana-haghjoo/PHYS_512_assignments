{
  "nbformat": 4,
  "nbformat_minor": 0,
  "metadata": {
    "colab": {
      "name": "assignment4.ipynb",
      "provenance": []
    },
    "kernelspec": {
      "name": "python3",
      "display_name": "Python 3"
    },
    "language_info": {
      "name": "python"
    }
  },
  "cells": [
    {
      "cell_type": "markdown",
      "metadata": {
        "id": "gN1arDg78RO5"
      },
      "source": [
        "## 1"
      ]
    },
    {
      "cell_type": "code",
      "metadata": {
        "id": "A-hfZQM3M054",
        "colab": {
          "base_uri": "https://localhost:8080/"
        },
        "outputId": "3429d24a-2e31-4789-f0e3-ac9a8b039a00"
      },
      "source": [
        "!pip install camb"
      ],
      "execution_count": 1,
      "outputs": [
        {
          "output_type": "stream",
          "name": "stdout",
          "text": [
            "Collecting camb\n",
            "  Downloading camb-1.3.2.tar.gz (1.6 MB)\n",
            "\u001b[?25l\r\u001b[K     |▏                               | 10 kB 16.8 MB/s eta 0:00:01\r\u001b[K     |▍                               | 20 kB 5.7 MB/s eta 0:00:01\r\u001b[K     |▋                               | 30 kB 7.3 MB/s eta 0:00:01\r\u001b[K     |▉                               | 40 kB 9.3 MB/s eta 0:00:01\r\u001b[K     |█                               | 51 kB 10.2 MB/s eta 0:00:01\r\u001b[K     |█▏                              | 61 kB 6.4 MB/s eta 0:00:01\r\u001b[K     |█▍                              | 71 kB 7.2 MB/s eta 0:00:01\r\u001b[K     |█▋                              | 81 kB 8.1 MB/s eta 0:00:01\r\u001b[K     |█▉                              | 92 kB 8.9 MB/s eta 0:00:01\r\u001b[K     |██                              | 102 kB 9.8 MB/s eta 0:00:01\r\u001b[K     |██▏                             | 112 kB 9.8 MB/s eta 0:00:01\r\u001b[K     |██▍                             | 122 kB 9.8 MB/s eta 0:00:01\r\u001b[K     |██▋                             | 133 kB 9.8 MB/s eta 0:00:01\r\u001b[K     |██▉                             | 143 kB 9.8 MB/s eta 0:00:01\r\u001b[K     |███                             | 153 kB 9.8 MB/s eta 0:00:01\r\u001b[K     |███▏                            | 163 kB 9.8 MB/s eta 0:00:01\r\u001b[K     |███▍                            | 174 kB 9.8 MB/s eta 0:00:01\r\u001b[K     |███▋                            | 184 kB 9.8 MB/s eta 0:00:01\r\u001b[K     |███▉                            | 194 kB 9.8 MB/s eta 0:00:01\r\u001b[K     |████                            | 204 kB 9.8 MB/s eta 0:00:01\r\u001b[K     |████▎                           | 215 kB 9.8 MB/s eta 0:00:01\r\u001b[K     |████▍                           | 225 kB 9.8 MB/s eta 0:00:01\r\u001b[K     |████▋                           | 235 kB 9.8 MB/s eta 0:00:01\r\u001b[K     |████▉                           | 245 kB 9.8 MB/s eta 0:00:01\r\u001b[K     |█████                           | 256 kB 9.8 MB/s eta 0:00:01\r\u001b[K     |█████▎                          | 266 kB 9.8 MB/s eta 0:00:01\r\u001b[K     |█████▍                          | 276 kB 9.8 MB/s eta 0:00:01\r\u001b[K     |█████▋                          | 286 kB 9.8 MB/s eta 0:00:01\r\u001b[K     |█████▉                          | 296 kB 9.8 MB/s eta 0:00:01\r\u001b[K     |██████                          | 307 kB 9.8 MB/s eta 0:00:01\r\u001b[K     |██████▎                         | 317 kB 9.8 MB/s eta 0:00:01\r\u001b[K     |██████▍                         | 327 kB 9.8 MB/s eta 0:00:01\r\u001b[K     |██████▋                         | 337 kB 9.8 MB/s eta 0:00:01\r\u001b[K     |██████▉                         | 348 kB 9.8 MB/s eta 0:00:01\r\u001b[K     |███████                         | 358 kB 9.8 MB/s eta 0:00:01\r\u001b[K     |███████▎                        | 368 kB 9.8 MB/s eta 0:00:01\r\u001b[K     |███████▍                        | 378 kB 9.8 MB/s eta 0:00:01\r\u001b[K     |███████▋                        | 389 kB 9.8 MB/s eta 0:00:01\r\u001b[K     |███████▉                        | 399 kB 9.8 MB/s eta 0:00:01\r\u001b[K     |████████                        | 409 kB 9.8 MB/s eta 0:00:01\r\u001b[K     |████████▎                       | 419 kB 9.8 MB/s eta 0:00:01\r\u001b[K     |████████▌                       | 430 kB 9.8 MB/s eta 0:00:01\r\u001b[K     |████████▋                       | 440 kB 9.8 MB/s eta 0:00:01\r\u001b[K     |████████▉                       | 450 kB 9.8 MB/s eta 0:00:01\r\u001b[K     |█████████                       | 460 kB 9.8 MB/s eta 0:00:01\r\u001b[K     |█████████▎                      | 471 kB 9.8 MB/s eta 0:00:01\r\u001b[K     |█████████▌                      | 481 kB 9.8 MB/s eta 0:00:01\r\u001b[K     |█████████▋                      | 491 kB 9.8 MB/s eta 0:00:01\r\u001b[K     |█████████▉                      | 501 kB 9.8 MB/s eta 0:00:01\r\u001b[K     |██████████                      | 512 kB 9.8 MB/s eta 0:00:01\r\u001b[K     |██████████▎                     | 522 kB 9.8 MB/s eta 0:00:01\r\u001b[K     |██████████▌                     | 532 kB 9.8 MB/s eta 0:00:01\r\u001b[K     |██████████▋                     | 542 kB 9.8 MB/s eta 0:00:01\r\u001b[K     |██████████▉                     | 552 kB 9.8 MB/s eta 0:00:01\r\u001b[K     |███████████                     | 563 kB 9.8 MB/s eta 0:00:01\r\u001b[K     |███████████▎                    | 573 kB 9.8 MB/s eta 0:00:01\r\u001b[K     |███████████▌                    | 583 kB 9.8 MB/s eta 0:00:01\r\u001b[K     |███████████▊                    | 593 kB 9.8 MB/s eta 0:00:01\r\u001b[K     |███████████▉                    | 604 kB 9.8 MB/s eta 0:00:01\r\u001b[K     |████████████                    | 614 kB 9.8 MB/s eta 0:00:01\r\u001b[K     |████████████▎                   | 624 kB 9.8 MB/s eta 0:00:01\r\u001b[K     |████████████▌                   | 634 kB 9.8 MB/s eta 0:00:01\r\u001b[K     |████████████▊                   | 645 kB 9.8 MB/s eta 0:00:01\r\u001b[K     |████████████▉                   | 655 kB 9.8 MB/s eta 0:00:01\r\u001b[K     |█████████████                   | 665 kB 9.8 MB/s eta 0:00:01\r\u001b[K     |█████████████▎                  | 675 kB 9.8 MB/s eta 0:00:01\r\u001b[K     |█████████████▌                  | 686 kB 9.8 MB/s eta 0:00:01\r\u001b[K     |█████████████▊                  | 696 kB 9.8 MB/s eta 0:00:01\r\u001b[K     |█████████████▉                  | 706 kB 9.8 MB/s eta 0:00:01\r\u001b[K     |██████████████                  | 716 kB 9.8 MB/s eta 0:00:01\r\u001b[K     |██████████████▎                 | 727 kB 9.8 MB/s eta 0:00:01\r\u001b[K     |██████████████▌                 | 737 kB 9.8 MB/s eta 0:00:01\r\u001b[K     |██████████████▊                 | 747 kB 9.8 MB/s eta 0:00:01\r\u001b[K     |██████████████▉                 | 757 kB 9.8 MB/s eta 0:00:01\r\u001b[K     |███████████████                 | 768 kB 9.8 MB/s eta 0:00:01\r\u001b[K     |███████████████▎                | 778 kB 9.8 MB/s eta 0:00:01\r\u001b[K     |███████████████▌                | 788 kB 9.8 MB/s eta 0:00:01\r\u001b[K     |███████████████▊                | 798 kB 9.8 MB/s eta 0:00:01\r\u001b[K     |████████████████                | 808 kB 9.8 MB/s eta 0:00:01\r\u001b[K     |████████████████                | 819 kB 9.8 MB/s eta 0:00:01\r\u001b[K     |████████████████▎               | 829 kB 9.8 MB/s eta 0:00:01\r\u001b[K     |████████████████▌               | 839 kB 9.8 MB/s eta 0:00:01\r\u001b[K     |████████████████▊               | 849 kB 9.8 MB/s eta 0:00:01\r\u001b[K     |█████████████████               | 860 kB 9.8 MB/s eta 0:00:01\r\u001b[K     |█████████████████               | 870 kB 9.8 MB/s eta 0:00:01\r\u001b[K     |█████████████████▎              | 880 kB 9.8 MB/s eta 0:00:01\r\u001b[K     |█████████████████▌              | 890 kB 9.8 MB/s eta 0:00:01\r\u001b[K     |█████████████████▊              | 901 kB 9.8 MB/s eta 0:00:01\r\u001b[K     |██████████████████              | 911 kB 9.8 MB/s eta 0:00:01\r\u001b[K     |██████████████████              | 921 kB 9.8 MB/s eta 0:00:01\r\u001b[K     |██████████████████▎             | 931 kB 9.8 MB/s eta 0:00:01\r\u001b[K     |██████████████████▌             | 942 kB 9.8 MB/s eta 0:00:01\r\u001b[K     |██████████████████▊             | 952 kB 9.8 MB/s eta 0:00:01\r\u001b[K     |███████████████████             | 962 kB 9.8 MB/s eta 0:00:01\r\u001b[K     |███████████████████             | 972 kB 9.8 MB/s eta 0:00:01\r\u001b[K     |███████████████████▎            | 983 kB 9.8 MB/s eta 0:00:01\r\u001b[K     |███████████████████▌            | 993 kB 9.8 MB/s eta 0:00:01\r\u001b[K     |███████████████████▊            | 1.0 MB 9.8 MB/s eta 0:00:01\r\u001b[K     |████████████████████            | 1.0 MB 9.8 MB/s eta 0:00:01\r\u001b[K     |████████████████████▏           | 1.0 MB 9.8 MB/s eta 0:00:01\r\u001b[K     |████████████████████▎           | 1.0 MB 9.8 MB/s eta 0:00:01\r\u001b[K     |████████████████████▌           | 1.0 MB 9.8 MB/s eta 0:00:01\r\u001b[K     |████████████████████▊           | 1.1 MB 9.8 MB/s eta 0:00:01\r\u001b[K     |█████████████████████           | 1.1 MB 9.8 MB/s eta 0:00:01\r\u001b[K     |█████████████████████▏          | 1.1 MB 9.8 MB/s eta 0:00:01\r\u001b[K     |█████████████████████▎          | 1.1 MB 9.8 MB/s eta 0:00:01\r\u001b[K     |█████████████████████▌          | 1.1 MB 9.8 MB/s eta 0:00:01\r\u001b[K     |█████████████████████▊          | 1.1 MB 9.8 MB/s eta 0:00:01\r\u001b[K     |██████████████████████          | 1.1 MB 9.8 MB/s eta 0:00:01\r\u001b[K     |██████████████████████▏         | 1.1 MB 9.8 MB/s eta 0:00:01\r\u001b[K     |██████████████████████▎         | 1.1 MB 9.8 MB/s eta 0:00:01\r\u001b[K     |██████████████████████▌         | 1.1 MB 9.8 MB/s eta 0:00:01\r\u001b[K     |██████████████████████▊         | 1.2 MB 9.8 MB/s eta 0:00:01\r\u001b[K     |███████████████████████         | 1.2 MB 9.8 MB/s eta 0:00:01\r\u001b[K     |███████████████████████▏        | 1.2 MB 9.8 MB/s eta 0:00:01\r\u001b[K     |███████████████████████▍        | 1.2 MB 9.8 MB/s eta 0:00:01\r\u001b[K     |███████████████████████▌        | 1.2 MB 9.8 MB/s eta 0:00:01\r\u001b[K     |███████████████████████▊        | 1.2 MB 9.8 MB/s eta 0:00:01\r\u001b[K     |████████████████████████        | 1.2 MB 9.8 MB/s eta 0:00:01\r\u001b[K     |████████████████████████▏       | 1.2 MB 9.8 MB/s eta 0:00:01\r\u001b[K     |████████████████████████▍       | 1.2 MB 9.8 MB/s eta 0:00:01\r\u001b[K     |████████████████████████▌       | 1.2 MB 9.8 MB/s eta 0:00:01\r\u001b[K     |████████████████████████▊       | 1.3 MB 9.8 MB/s eta 0:00:01\r\u001b[K     |█████████████████████████       | 1.3 MB 9.8 MB/s eta 0:00:01\r\u001b[K     |█████████████████████████▏      | 1.3 MB 9.8 MB/s eta 0:00:01\r\u001b[K     |█████████████████████████▍      | 1.3 MB 9.8 MB/s eta 0:00:01\r\u001b[K     |█████████████████████████▌      | 1.3 MB 9.8 MB/s eta 0:00:01\r\u001b[K     |█████████████████████████▊      | 1.3 MB 9.8 MB/s eta 0:00:01\r\u001b[K     |██████████████████████████      | 1.3 MB 9.8 MB/s eta 0:00:01\r\u001b[K     |██████████████████████████▏     | 1.3 MB 9.8 MB/s eta 0:00:01\r\u001b[K     |██████████████████████████▍     | 1.3 MB 9.8 MB/s eta 0:00:01\r\u001b[K     |██████████████████████████▌     | 1.4 MB 9.8 MB/s eta 0:00:01\r\u001b[K     |██████████████████████████▊     | 1.4 MB 9.8 MB/s eta 0:00:01\r\u001b[K     |███████████████████████████     | 1.4 MB 9.8 MB/s eta 0:00:01\r\u001b[K     |███████████████████████████▏    | 1.4 MB 9.8 MB/s eta 0:00:01\r\u001b[K     |███████████████████████████▍    | 1.4 MB 9.8 MB/s eta 0:00:01\r\u001b[K     |███████████████████████████▋    | 1.4 MB 9.8 MB/s eta 0:00:01\r\u001b[K     |███████████████████████████▊    | 1.4 MB 9.8 MB/s eta 0:00:01\r\u001b[K     |████████████████████████████    | 1.4 MB 9.8 MB/s eta 0:00:01\r\u001b[K     |████████████████████████████▏   | 1.4 MB 9.8 MB/s eta 0:00:01\r\u001b[K     |████████████████████████████▍   | 1.4 MB 9.8 MB/s eta 0:00:01\r\u001b[K     |████████████████████████████▋   | 1.5 MB 9.8 MB/s eta 0:00:01\r\u001b[K     |████████████████████████████▊   | 1.5 MB 9.8 MB/s eta 0:00:01\r\u001b[K     |█████████████████████████████   | 1.5 MB 9.8 MB/s eta 0:00:01\r\u001b[K     |█████████████████████████████▏  | 1.5 MB 9.8 MB/s eta 0:00:01\r\u001b[K     |█████████████████████████████▍  | 1.5 MB 9.8 MB/s eta 0:00:01\r\u001b[K     |█████████████████████████████▋  | 1.5 MB 9.8 MB/s eta 0:00:01\r\u001b[K     |█████████████████████████████▊  | 1.5 MB 9.8 MB/s eta 0:00:01\r\u001b[K     |██████████████████████████████  | 1.5 MB 9.8 MB/s eta 0:00:01\r\u001b[K     |██████████████████████████████▏ | 1.5 MB 9.8 MB/s eta 0:00:01\r\u001b[K     |██████████████████████████████▍ | 1.5 MB 9.8 MB/s eta 0:00:01\r\u001b[K     |██████████████████████████████▋ | 1.6 MB 9.8 MB/s eta 0:00:01\r\u001b[K     |██████████████████████████████▊ | 1.6 MB 9.8 MB/s eta 0:00:01\r\u001b[K     |███████████████████████████████ | 1.6 MB 9.8 MB/s eta 0:00:01\r\u001b[K     |███████████████████████████████▏| 1.6 MB 9.8 MB/s eta 0:00:01\r\u001b[K     |███████████████████████████████▍| 1.6 MB 9.8 MB/s eta 0:00:01\r\u001b[K     |███████████████████████████████▋| 1.6 MB 9.8 MB/s eta 0:00:01\r\u001b[K     |███████████████████████████████▉| 1.6 MB 9.8 MB/s eta 0:00:01\r\u001b[K     |████████████████████████████████| 1.6 MB 9.8 MB/s eta 0:00:01\r\u001b[K     |████████████████████████████████| 1.6 MB 9.8 MB/s \n",
            "\u001b[?25hRequirement already satisfied: scipy>=1.0 in /usr/local/lib/python3.7/dist-packages (from camb) (1.4.1)\n",
            "Requirement already satisfied: sympy>=1.0 in /usr/local/lib/python3.7/dist-packages (from camb) (1.7.1)\n",
            "Requirement already satisfied: numpy>=1.13.3 in /usr/local/lib/python3.7/dist-packages (from scipy>=1.0->camb) (1.19.5)\n",
            "Requirement already satisfied: mpmath>=0.19 in /usr/local/lib/python3.7/dist-packages (from sympy>=1.0->camb) (1.2.1)\n",
            "Building wheels for collected packages: camb\n",
            "  Building wheel for camb (setup.py) ... \u001b[?25l\u001b[?25hdone\n",
            "  Created wheel for camb: filename=camb-1.3.2-py3-none-any.whl size=1009274 sha256=d5071f054aae282ed75c577aaab9b2b82e660052cf6675e83bafc9cdbcf97a02\n",
            "  Stored in directory: /root/.cache/pip/wheels/d3/c1/34/87632240be4218d112bc9b47c18e92ef81bfb6bc1e1f0f0a72\n",
            "Successfully built camb\n",
            "Installing collected packages: camb\n",
            "Successfully installed camb-1.3.2\n"
          ]
        }
      ]
    },
    {
      "cell_type": "code",
      "metadata": {
        "colab": {
          "base_uri": "https://localhost:8080/",
          "height": 283
        },
        "id": "3o1poscYRGX-",
        "outputId": "da3a4de0-2bb2-4de0-b060-91a3fd371d0b"
      },
      "source": [
        "import numpy as np\n",
        "import camb\n",
        "from matplotlib import pyplot as plt\n",
        "import time\n",
        "\n",
        "\n",
        "def get_spectrum(pars,lmax=3000):\n",
        "    #print('pars are ',pars)\n",
        "    H0=pars[0]\n",
        "    ombh2=pars[1]\n",
        "    omch2=pars[2]\n",
        "    tau=pars[3]\n",
        "    As=pars[4]\n",
        "    ns=pars[5]\n",
        "    pars=camb.CAMBparams()\n",
        "    pars.set_cosmology(H0=H0,ombh2=ombh2,omch2=omch2,mnu=0.06,omk=0,tau=tau)\n",
        "    pars.InitPower.set_params(As=As,ns=ns,r=0)\n",
        "    pars.set_for_lmax(lmax,lens_potential_accuracy=0)\n",
        "    results=camb.get_results(pars)\n",
        "    powers=results.get_cmb_power_spectra(pars,CMB_unit='muK')\n",
        "    cmb=powers['total']\n",
        "    tt=cmb[:,0]    #you could return the full power spectrum here if you wanted to do say EE\n",
        "    return tt[2:]\n",
        "\n",
        "\n",
        "plt.ion()\n",
        "\n",
        "pars=np.asarray([60,0.02,0.1,0.05,2.00e-9,1.0])\n",
        "planck=np.loadtxt('COM_PowerSpect_CMB-TT-full_R3.01.txt',skiprows=1)\n",
        "ell=planck[:,0]\n",
        "spec=planck[:,1]\n",
        "errs=0.5*(planck[:,2]+planck[:,3]);\n",
        "model=get_spectrum(pars)\n",
        "model=model[:len(spec)]\n",
        "resid=spec-model\n",
        "chisq=np.sum( (resid/errs)**2)\n",
        "print(\"chisq is \",chisq,\" for \",len(resid)-len(pars),\" degrees of freedom.\")\n",
        "#read in a binned version of the Planck PS for plotting purposes\n",
        "planck_binned=np.loadtxt('COM_PowerSpect_CMB-TT-binned_R3.01.txt',skiprows=1)\n",
        "errs_binned=0.5*(planck_binned[:,2]+planck_binned[:,3]);\n",
        "plt.clf()\n",
        "plt.plot(ell,model)\n",
        "plt.errorbar(planck_binned[:,0],planck_binned[:,1],errs_binned,fmt='.')\n",
        "plt.show()"
      ],
      "execution_count": 3,
      "outputs": [
        {
          "output_type": "stream",
          "name": "stdout",
          "text": [
            "chisq is  15267.937674122833  for  2501  degrees of freedom.\n"
          ]
        },
        {
          "output_type": "display_data",
          "data": {
            "image/png": "[encoded data removed]",
            "text/plain": [
              "<Figure size 432x288 with 1 Axes>"
            ]
          },
          "metadata": {
            "needs_background": "light"
          }
        }
      ]
    },
    {
      "cell_type": "code",
      "metadata": {
        "colab": {
          "base_uri": "https://localhost:8080/"
        },
        "id": "Zq5wZ96uDbUy",
        "outputId": "c4a6fe47-4b44-445b-912d-086ae90f886c"
      },
      "source": [
        "type(chisq)"
      ],
      "execution_count": 4,
      "outputs": [
        {
          "output_type": "execute_result",
          "data": {
            "text/plain": [
              "numpy.float64"
            ]
          },
          "metadata": {},
          "execution_count": 4
        }
      ]
    },
    {
      "cell_type": "markdown",
      "metadata": {
        "id": "plKY_H48sIIv"
      },
      "source": [
        "As we see, this set of parameters ([60,0.02,0.1,0.05,2.00e-9,1.0]) are not an acceptable fit!\n",
        "We now try the this set of parameters:\n",
        "[69, 0.022, 0.12, 0.06, 2.1e-9, 0.95]"
      ]
    },
    {
      "cell_type": "code",
      "metadata": {
        "colab": {
          "base_uri": "https://localhost:8080/"
        },
        "id": "XUNN0oaqqv90",
        "outputId": "28668de9-dcc6-43fd-eb32-5e7ebeeadaad"
      },
      "source": [
        "pars=np.asarray([69, 0.022, 0.12, 0.06, 2.1e-9, 0.95])\n",
        "planck=np.loadtxt('COM_PowerSpect_CMB-TT-full_R3.01.txt',skiprows=1)\n",
        "ell=planck[:,0]\n",
        "spec=planck[:,1]\n",
        "errs=0.5*(planck[:,2]+planck[:,3]);\n",
        "model=get_spectrum(pars)\n",
        "model=model[:len(spec)]\n",
        "resid=spec-model\n",
        "chisq=np.sum( (resid/errs)**2)\n",
        "print(\"chisq is \",chisq,\" for \",len(resid)-len(pars),\" degrees of freedom.\")"
      ],
      "execution_count": 5,
      "outputs": [
        {
          "output_type": "stream",
          "name": "stdout",
          "text": [
            "chisq is  3272.2036740262683  for  2501  degrees of freedom.\n"
          ]
        }
      ]
    },
    {
      "cell_type": "markdown",
      "metadata": {
        "id": "XkTekUp2tT6A"
      },
      "source": [
        "So the chi-square is 3272.2036740262683 but it is again too much! So this is not an acceptable fit too.\n"
      ]
    },
    {
      "cell_type": "markdown",
      "metadata": {
        "id": "r0tBwIFYcAjQ"
      },
      "source": [
        "## 2"
      ]
    },
    {
      "cell_type": "code",
      "metadata": {
        "id": "kqz-UqeidKHs"
      },
      "source": [
        "def get_spectrum_2(pars, lmax=3000):\n",
        "  model=get_spectrum(pars)\n",
        "  model=model[:len(spec)]\n",
        "  return model"
      ],
      "execution_count": 6,
      "outputs": []
    },
    {
      "cell_type": "code",
      "metadata": {
        "colab": {
          "base_uri": "https://localhost:8080/"
        },
        "id": "CFwJYnjwiAMY",
        "outputId": "3573322d-01d0-469f-c09e-2cab05b93c84"
      },
      "source": [
        "get_spectrum_2([69, 0.022, 0.12, 0.06, 2.1e-9, 0.95])"
      ],
      "execution_count": 7,
      "outputs": [
        {
          "output_type": "execute_result",
          "data": {
            "text/plain": [
              "array([1127.74053046, 1058.88801604,  994.68866218, ...,   70.56294406,\n",
              "         70.37492505,   70.18872273])"
            ]
          },
          "metadata": {},
          "execution_count": 7
        }
      ]
    },
    {
      "cell_type": "code",
      "metadata": {
        "id": "kwF-0VCKAwoT"
      },
      "source": [
        "pars=np.asarray([69, 0.023, 0.14, 0.07, 2.1e-9, 0.95])"
      ],
      "execution_count": 28,
      "outputs": []
    },
    {
      "cell_type": "code",
      "metadata": {
        "id": "KDXHsUsYcK6y"
      },
      "source": [
        "pars=np.asarray([69, 0.023, 0.12, 0.06, 2.1e-9, 0.95])\n",
        "pars_minus= pars.copy()\n",
        "pars_positive = pars.copy()\n",
        "delta_rate = 0.01\n",
        "A=np.zeros((6, len(spec)))\n",
        "\n",
        "for i in range(0, 5):\n",
        "  pars_minus[i] = (1- delta_rate)*pars[i]\n",
        "  pars_positive[i] = (1+delta_rate)*pars[i]\n",
        "  A[i, :]= (get_spectrum_2(pars_minus)-get_spectrum_2(pars_positive))/(2*delta_rate*pars[i])"
      ],
      "execution_count": 30,
      "outputs": []
    },
    {
      "cell_type": "code",
      "metadata": {
        "id": "oKM82e8rNWjb"
      },
      "source": [
        "A= np.matrix(A).transpose()\n",
        "\n",
        "u, s, vt= np.linalg.svd(A, False)\n",
        "sinv= np.matrix(np.diag(1/s))\n",
        "fitp=vt.transpose()*sinv*(u.transpose()*r)"
      ],
      "execution_count": 31,
      "outputs": []
    },
    {
      "cell_type": "code",
      "metadata": {
        "id": "333zXiXINxN6"
      },
      "source": [
        "sinv= numpy.matrix(np.diag(1/s))"
      ],
      "execution_count": null,
      "outputs": []
    },
    {
      "cell_type": "code",
      "metadata": {
        "id": "nC_D01k-ttHA"
      },
      "source": [
        "N = np.zeros((len(spec),len(spec)))\n",
        "for j in range(0, len(spec)-1):\n",
        "  N[j, j]= 1/(errs[j]**2)"
      ],
      "execution_count": 20,
      "outputs": []
    },
    {
      "cell_type": "code",
      "metadata": {
        "colab": {
          "base_uri": "https://localhost:8080/",
          "height": 235
        },
        "id": "vXGuA-xfwSQH",
        "outputId": "acceb2f8-a6d9-4c34-cb74-0c7d63d1d44d"
      },
      "source": [
        "m = pars.copy()\n",
        "\n",
        "while(True):\n",
        "  for i in range(0, 5):\n",
        "    m_minus = m.copy()\n",
        "    m_positive = m.copy()\n",
        "    m_minus[i] = (1 - delta_rate) *m[i]\n",
        "    m_positive[i] = (1 + delta_rate)*m[i]\n",
        "    A[i, :]= (get_spectrum_2(m_minus)-get_spectrum_2(m_positive))/(2*delta_rate*m[i])\n",
        "\n",
        "  r= spec - get_spectrum_2(m)\n",
        "  #B= np.linalg.inv(np.matmul(np.matmul(A, N), np.transpose(A)))\n",
        "  #C= np.matmul(np.matmul(A, N), r)\n",
        "  r=np.matrix(r)\n",
        "  A= np.matrix(A).transpose()\n",
        "  u, s, vt= np.linalg.svd(A, False)\n",
        "  print(vt.shape(), u.shape(), s.shape())\n",
        "  sinv= np.matrix(np.diag(1/s))\n",
        "  delta_m=vt.transpose()*sinv*(u.transpose()*r)\n",
        "  #delta_m = np.matmul(B,C)\n",
        "  chi = np.matmul(np.matmul(np.transpose(A), N), r)\n",
        "  if chi < 0.001:\n",
        "    break\n",
        "  delta_m = np.asarray(delta_m).reshape(-1)\n",
        "  m = m + delta_m"
      ],
      "execution_count": 34,
      "outputs": [
        {
          "output_type": "error",
          "ename": "ValueError",
          "evalue": "ignored",
          "traceback": [
            "\u001b[0;31m---------------------------------------------------------------------------\u001b[0m",
            "\u001b[0;31mValueError\u001b[0m                                Traceback (most recent call last)",
            "\u001b[0;32m<ipython-input-34-7aa0aa498341>\u001b[0m in \u001b[0;36m<module>\u001b[0;34m()\u001b[0m\n\u001b[1;32m      7\u001b[0m     \u001b[0mm_minus\u001b[0m\u001b[0;34m[\u001b[0m\u001b[0mi\u001b[0m\u001b[0;34m]\u001b[0m \u001b[0;34m=\u001b[0m \u001b[0;34m(\u001b[0m\u001b[0;36m1\u001b[0m \u001b[0;34m-\u001b[0m \u001b[0mdelta_rate\u001b[0m\u001b[0;34m)\u001b[0m \u001b[0;34m*\u001b[0m\u001b[0mm\u001b[0m\u001b[0;34m[\u001b[0m\u001b[0mi\u001b[0m\u001b[0;34m]\u001b[0m\u001b[0;34m\u001b[0m\u001b[0;34m\u001b[0m\u001b[0m\n\u001b[1;32m      8\u001b[0m     \u001b[0mm_positive\u001b[0m\u001b[0;34m[\u001b[0m\u001b[0mi\u001b[0m\u001b[0;34m]\u001b[0m \u001b[0;34m=\u001b[0m \u001b[0;34m(\u001b[0m\u001b[0;36m1\u001b[0m \u001b[0;34m+\u001b[0m \u001b[0mdelta_rate\u001b[0m\u001b[0;34m)\u001b[0m\u001b[0;34m*\u001b[0m\u001b[0mm\u001b[0m\u001b[0;34m[\u001b[0m\u001b[0mi\u001b[0m\u001b[0;34m]\u001b[0m\u001b[0;34m\u001b[0m\u001b[0;34m\u001b[0m\u001b[0m\n\u001b[0;32m----> 9\u001b[0;31m     \u001b[0mA\u001b[0m\u001b[0;34m[\u001b[0m\u001b[0mi\u001b[0m\u001b[0;34m,\u001b[0m \u001b[0;34m:\u001b[0m\u001b[0;34m]\u001b[0m\u001b[0;34m=\u001b[0m \u001b[0;34m(\u001b[0m\u001b[0mget_spectrum_2\u001b[0m\u001b[0;34m(\u001b[0m\u001b[0mm_minus\u001b[0m\u001b[0;34m)\u001b[0m\u001b[0;34m-\u001b[0m\u001b[0mget_spectrum_2\u001b[0m\u001b[0;34m(\u001b[0m\u001b[0mm_positive\u001b[0m\u001b[0;34m)\u001b[0m\u001b[0;34m)\u001b[0m\u001b[0;34m/\u001b[0m\u001b[0;34m(\u001b[0m\u001b[0;36m2\u001b[0m\u001b[0;34m*\u001b[0m\u001b[0mdelta_rate\u001b[0m\u001b[0;34m*\u001b[0m\u001b[0mm\u001b[0m\u001b[0;34m[\u001b[0m\u001b[0mi\u001b[0m\u001b[0;34m]\u001b[0m\u001b[0;34m)\u001b[0m\u001b[0;34m\u001b[0m\u001b[0;34m\u001b[0m\u001b[0m\n\u001b[0m\u001b[1;32m     10\u001b[0m \u001b[0;34m\u001b[0m\u001b[0m\n\u001b[1;32m     11\u001b[0m   \u001b[0mr\u001b[0m\u001b[0;34m=\u001b[0m \u001b[0mspec\u001b[0m \u001b[0;34m-\u001b[0m \u001b[0mget_spectrum_2\u001b[0m\u001b[0;34m(\u001b[0m\u001b[0mm\u001b[0m\u001b[0;34m)\u001b[0m\u001b[0;34m\u001b[0m\u001b[0;34m\u001b[0m\u001b[0m\n",
            "\u001b[0;31mValueError\u001b[0m: could not broadcast input array from shape (2507) into shape (1,6)"
          ]
        }
      ]
    },
    {
      "cell_type": "code",
      "metadata": {
        "id": "CwBdMh6M8y_G"
      },
      "source": [
        "f = open(planck_fit_params.txt ,'w')\n",
        "f.write(m)\n",
        "f.close()"
      ],
      "execution_count": null,
      "outputs": []
    },
    {
      "cell_type": "markdown",
      "metadata": {
        "id": "ALCkujJ7BYxY"
      },
      "source": [
        "## 3"
      ]
    },
    {
      "cell_type": "markdown",
      "metadata": {
        "id": "h_dJT70TBefz"
      },
      "source": [
        "Since I could not end the section number 2 because of the singular matrix problem, I will run a built-in fuction of python to fit the parameters and start my mcmc chain."
      ]
    },
    {
      "cell_type": "code",
      "metadata": {
        "id": "pD4pFv3oBdm_"
      },
      "source": [
        ""
      ],
      "execution_count": null,
      "outputs": []
    }
  ]
}