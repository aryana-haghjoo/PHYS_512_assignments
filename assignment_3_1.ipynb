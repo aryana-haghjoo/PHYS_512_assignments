{
  "nbformat": 4,
  "nbformat_minor": 0,
  "metadata": {
    "colab": {
      "name": "assignment 3_1.ipynb",
      "provenance": [],
      "collapsed_sections": []
    },
    "kernelspec": {
      "display_name": "Python 3",
      "name": "python3"
    },
    "language_info": {
      "name": "python"
    }
  },
  "cells": [
    {
      "cell_type": "code",
      "metadata": {
        "colab": {
          "base_uri": "https://localhost:8080/"
        },
        "id": "EkaW85VirBWK",
        "outputId": "8b00c81b-d9cc-45a9-cb98-ea6fd0d5a775"
      },
      "source": [
        "from google.colab import drive\n",
        "drive.mount('/content/drive')"
      ],
      "execution_count": 31,
      "outputs": [
        {
          "output_type": "stream",
          "name": "stdout",
          "text": [
            "Mounted at /content/drive\n"
          ]
        }
      ]
    },
    {
      "cell_type": "code",
      "metadata": {
        "id": "o1mt9n_1rjJh"
      },
      "source": [
        "/content/gdrive/My Drive/Github"
      ],
      "execution_count": null,
      "outputs": []
    },
    {
      "cell_type": "code",
      "metadata": {
        "id": "A-hfZQM3M054"
      },
      "source": [
        "import math as m\n",
        "import numpy as np\n",
        "import matplotlib.pyplot as plt"
      ],
      "execution_count": 19,
      "outputs": []
    },
    {
      "cell_type": "code",
      "metadata": {
        "id": "-AIUw5PmNr6r"
      },
      "source": [
        "def equation(x1, x2):  \n",
        "  return x2/(1 + x1**2)"
      ],
      "execution_count": 20,
      "outputs": []
    },
    {
      "cell_type": "markdown",
      "metadata": {
        "id": "NbEloGxmARk4"
      },
      "source": [
        "## rk4_step"
      ]
    },
    {
      "cell_type": "code",
      "metadata": {
        "id": "4dmtUnsfhIhS"
      },
      "source": [
        "def rk4_step(fun, x, y, h):\n",
        "  \n",
        "  n = int(40/h)\n",
        " \n",
        "  #initial conditions\n",
        "  x[0] = -20\n",
        "  y[0] = 1\n",
        "\n",
        " #Range-Kutta algurithm\n",
        "\n",
        "  for i in range(0, n-1):\n",
        "\n",
        "    k1 = fun(x[i] , y[i])\n",
        "    k2 = fun(x[i]+h/2 , y[i]+0.5*k1*h)\n",
        "    k3 = fun(x[i]+h/2 , y[i]+0.5*k2*h)\n",
        "    k4 = fun(x[i]+h , y[i]*k3*h)\n",
        "\n",
        "    y[i+1] = y[i] + (h/6)*(k1 + 2*k2 + 2*k3 + k4)\n",
        "\n",
        "  plt.plot(y)\n",
        "  plt.title('Original Stepper')\n",
        "  plt.xlabel('x')\n",
        "  plt.ylabel('y')\n",
        "  plt.show()\n",
        "  \n",
        "  return(y)\n"
      ],
      "execution_count": 21,
      "outputs": []
    },
    {
      "cell_type": "code",
      "metadata": {
        "id": "-yt-cM_2UTBf",
        "colab": {
          "base_uri": "https://localhost:8080/",
          "height": 295
        },
        "outputId": "e90215ab-68d6-4360-8b7f-1ba182b7010d"
      },
      "source": [
        "x= np.linspace(-20 , 20 , 200)\n",
        "y= np.zeros(200)\n",
        "N= rk4_step(equation, x, y, 0.2)"
      ],
      "execution_count": 22,
      "outputs": [
        {
          "output_type": "display_data",
          "data": {
            "image/png": "[encoded data removed]",
            "text/plain": [
              "<Figure size 432x288 with 1 Axes>"
            ]
          },
          "metadata": {
            "needs_background": "light"
          }
        }
      ]
    },
    {
      "cell_type": "code",
      "metadata": {
        "colab": {
          "base_uri": "https://localhost:8080/"
        },
        "id": "NeiNY9r6I2OU",
        "outputId": "318c7ab2-8623-4657-cbe0-08bba9dec8ce"
      },
      "source": [
        "N"
      ],
      "execution_count": 23,
      "outputs": [
        {
          "output_type": "execute_result",
          "data": {
            "text/plain": [
              "array([ 1.        ,  1.0004191 ,  1.00084694,  1.00128381,  1.00172999,\n",
              "        1.00218578,  1.0026515 ,  1.00312748,  1.00361405,  1.00411157,\n",
              "        1.00462042,  1.00514099,  1.00567369,  1.00621895,  1.0067772 ,\n",
              "        1.00734894,  1.00793464,  1.00853482,  1.00915004,  1.00978085,\n",
              "        1.01042786,  1.01109171,  1.01177305,  1.01247258,  1.01319105,\n",
              "        1.01392922,  1.01468793,  1.01546804,  1.01627046,  1.01709617,\n",
              "        1.01794619,  1.01882161,  1.01972358,  1.02065333,  1.02161216,\n",
              "        1.02260144,  1.02362266,  1.02467738,  1.02576727,  1.02689412,\n",
              "        1.02805983,  1.02926645,  1.03051616,  1.0318113 ,  1.0331544 ,\n",
              "        1.03454815,  1.03599547,  1.0374995 ,  1.03906362,  1.0406915 ,\n",
              "        1.04238711,  1.04415475,  1.04599908,  1.04792519,  1.04993861,\n",
              "        1.05204541,  1.05425219,  1.05656621,  1.05899545,  1.06154869,\n",
              "        1.06423561,  1.06706694,  1.07005457,  1.07321172,  1.07655315,\n",
              "        1.08009536,  1.08385687,  1.08785853,  1.09212391,  1.09667973,\n",
              "        1.10155642,  1.10678875,  1.11241668,  1.11848631,  1.1250511 ,\n",
              "        1.13217339,  1.13992631,  1.14839615,  1.15768543,  1.16791686,\n",
              "        1.17923845,  1.19183023,  1.20591323,  1.22176151,  1.23971869,\n",
              "        1.26022067,  1.28382773,  1.31127033,  1.34351575,  1.38186668,\n",
              "        1.4281099 ,  1.48474426,  1.55533515,  1.64507021,  1.76162386,\n",
              "        1.91645131,  2.12651259,  2.41584862,  2.81481656,  3.35245082,\n",
              "        4.03910886,  4.849143  ,  5.72380575,  6.59636902,  7.41644302,\n",
              "        8.15760376,  8.81245762,  9.38465593,  9.88274785, 10.31660743,\n",
              "       10.69570792, 11.02844477, 11.32197707, 11.58229521, 11.81436961,\n",
              "       12.0223141 , 12.20953683, 12.37886974, 12.53267574, 12.67293583,\n",
              "       12.80131931, 12.91924015, 13.02790222, 13.12833572, 13.22142655,\n",
              "       13.30794015, 13.38854084, 13.46380769, 13.53424755, 13.6003058 ,\n",
              "       13.66237523, 13.72080356, 13.77589958, 13.82793841, 13.87716597,\n",
              "       13.92380266, 13.96804659, 14.01007631, 14.05005312, 14.08812314,\n",
              "       14.124419  , 14.15906137, 14.19216026, 14.22381621, 14.2541212 ,\n",
              "       14.28315963, 14.31100901, 14.33774068, 14.36342042, 14.38810894,\n",
              "       14.4118624 , 14.43473279, 14.45676834, 14.47801385, 14.49851094,\n",
              "       14.5182984 , 14.53741239, 14.55588663, 14.57375267, 14.59103999,\n",
              "       14.60777621, 14.62398724, 14.63969736, 14.65492941, 14.66970485,\n",
              "       14.68404388, 14.69796552, 14.71148771, 14.72462738, 14.73740051,\n",
              "       14.74982221, 14.76190677, 14.77366771, 14.78511786, 14.79626934,\n",
              "       14.8071337 , 14.81772185, 14.8280442 , 14.83811062, 14.8479305 ,\n",
              "       14.85751278, 14.86686598, 14.8759982 , 14.88491717, 14.89363028,\n",
              "       14.90214457, 14.91046675, 14.91860326, 14.92656023, 14.93434354,\n",
              "       14.9419588 , 14.9494114 , 14.95670649, 14.96384901, 14.97084368,\n",
              "       14.97769507, 14.9844075 , 14.99098518, 14.99743212, 15.00375216])"
            ]
          },
          "metadata": {},
          "execution_count": 23
        }
      ]
    },
    {
      "cell_type": "markdown",
      "metadata": {
        "id": "VnVUzHuOAg9r"
      },
      "source": [
        "## rk4_stepd"
      ]
    },
    {
      "cell_type": "code",
      "metadata": {
        "id": "O-7EAOUQAcnE"
      },
      "source": [
        "def rk4_stepd(fun, x, y, h):\n",
        "  \n",
        "  n = int(40 /h)\n",
        " \n",
        "  #initial conditions\n",
        "  x[0] = -20\n",
        "  y[0] = 1\n",
        "\n",
        " #Range-Kutta algurithm\n",
        "\n",
        "  for i in range(0, n-1):\n",
        "\n",
        "    k1 = fun(x[i] , y[i])\n",
        "    k2 = fun(x[i]+h/2 , y[i]+0.5*k1*h)\n",
        "    k3 = fun(x[i]+h/2 , y[i]+0.5*k2*h)\n",
        "    k4 = fun(x[i]+h , y[i]*k3*h)\n",
        "\n",
        "    y[i+1] = y[i] + (h/6)*(k1 + 2*k2 + 2*k3 + k4)\n",
        "\n",
        "  plt.plot(y, label='original')\n",
        "\n",
        "\n",
        "  #the new h\n",
        "  h1 = h/2\n",
        "\n",
        "  n1 = int(40 /h1)\n",
        "\n",
        "  x1= np.linspace(-20 , 20 , 400)\n",
        "  y1= np.zeros(400)\n",
        "\n",
        "  #initial conditions\n",
        "  x1[0] = -20\n",
        "  y1[0] = 1\n",
        "\n",
        " #Range-Kutta algurithm\n",
        "\n",
        "  for i in range(0, n1 -1):\n",
        "    m1 = fun(x1[i] , y1[i])\n",
        "    m2 = fun(x1[i]+h1/2 , y1[i]+0.5*m1*h1)\n",
        "    m3 = fun(x1[i]+h1/2 , y1[i]+0.5*m2*h1)\n",
        "    m4 = fun(x1[i]+h1 , y1[i]*m3*h1)\n",
        "\n",
        "    y1[i+1] = y1[i] + (h1/6)*(m1 + 2*m2 + 2*m3 + m4)\n",
        "\n",
        "  #plt.plot(y1)\n",
        "\n",
        "# comparing\n",
        "  y2 = np.zeros(n)\n",
        "  for i in range(0 , n-1):\n",
        "    if abs(y[i] - y1[2*i -1])< abs(y[i] - y1[2*i -2]):\n",
        "      y2[i] = y1[2*i -1]\n",
        "    else:\n",
        "      y2[i] = y1[2*i -2]\n",
        "\n",
        "  y3 = np.zeros(n)\n",
        "  y3 = (4*y2 - y)/3\n",
        "  plt.plot(y3, label='modified')\n",
        "  plt.legend()\n",
        "  plt.title('Original & Modified Stepper')\n",
        "  plt.xlabel('x')\n",
        "  plt.ylabel('y')\n",
        "  plt.show()\n",
        "\n",
        "  return(y3)"
      ],
      "execution_count": 24,
      "outputs": []
    },
    {
      "cell_type": "code",
      "metadata": {
        "colab": {
          "base_uri": "https://localhost:8080/",
          "height": 989
        },
        "id": "lPqC_Ez4Eqsv",
        "outputId": "25b8d31e-78ba-4dc3-eb94-df9f543443dd"
      },
      "source": [
        "x= np.linspace(-20 , 20 , 200)\n",
        "y= np.zeros(200)\n",
        "rk4_stepd(equation, x, y, 0.2)"
      ],
      "execution_count": 25,
      "outputs": [
        {
          "output_type": "display_data",
          "data": {
            "image/png": "[encoded data removed]",
            "text/plain": [
              "<Figure size 432x288 with 1 Axes>"
            ]
          },
          "metadata": {
            "needs_background": "light"
          }
        },
        {
          "output_type": "execute_result",
          "data": {
            "text/plain": [
              "array([18.09293147,  1.00013854,  1.00056105,  1.00099238,  1.00143282,\n",
              "        1.00188265,  1.00234218,  1.00281173,  1.00329162,  1.00378221,\n",
              "        1.00428385,  1.00479691,  1.00532181,  1.00585894,  1.00640874,\n",
              "        1.00697166,  1.00754819,  1.00813881,  1.00874405,  1.00936445,\n",
              "        1.0100006 ,  1.01065311,  1.0113226 ,  1.01200974,  1.01271526,\n",
              "        1.01343989,  1.01418441,  1.01494966,  1.01573652,  1.0165459 ,\n",
              "        1.01737879,  1.01823623,  1.01911931,  1.02002921,  1.02096715,\n",
              "        1.02193446,  1.02293252,  1.02396283,  1.02502698,  1.02612665,\n",
              "        1.02726364,  1.02843989,  1.02965746,  1.03091856,  1.03222555,\n",
              "        1.03358099,  1.03498761,  1.03644835,  1.03796638,  1.03954514,\n",
              "        1.04118833,  1.04289996,  1.04468438,  1.04654631,  1.0484909 ,\n",
              "        1.05052375,  1.05265098,  1.05487929,  1.05721601,  1.05966923,\n",
              "        1.06224782,  1.06496158,  1.06782138,  1.07083924,  1.07402855,\n",
              "        1.07740425,  1.08098303,  1.08478365,  1.08882721,  1.09313758,\n",
              "        1.09774178,  1.10267063,  1.10795933,  1.11364833,  1.11978427,\n",
              "        1.12642126,  1.13362239,  1.14146162,  1.15002622,  1.15941988,\n",
              "        1.16976659,  1.18121588,  1.19394948,  1.20819036,  1.2242147 ,\n",
              "        1.24236831,  1.26308918,  1.28693909,  1.31464853,  1.34718147,\n",
              "        1.38583041,  1.4323578 ,  1.48920977,  1.5598418 ,  1.64921665,\n",
              "        1.76455562,  1.91642197,  2.12009989,  2.3967345 ,  2.77226749,\n",
              "        3.26998715,  3.89438829,  4.61703891,  5.38321946,  6.13641181,\n",
              "        6.837468  ,  7.46794518,  8.02428085,  8.51092847,  8.93560576,\n",
              "        9.30670081,  9.632081  ,  9.91865711, 10.17230815, 10.39795805,\n",
              "       10.59970346, 10.78094739, 10.94452052, 11.09278479, 11.22771915,\n",
              "       11.35098936, 11.46400445, 11.56796224, 11.66388601, 11.75265423,\n",
              "       11.83502451, 11.91165327, 11.98311166, 12.04989873, 12.11245224,\n",
              "       12.17115765, 12.22635559, 12.27834809, 12.32740385, 12.37376265,\n",
              "       12.41763911, 12.45922584, 12.49869621, 12.53620664, 12.57189862,\n",
              "       12.60590043, 12.63832866, 12.66928944, 12.69887967, 12.72718791,\n",
              "       12.75429532, 12.78027635, 12.80519949, 12.82912778, 12.85211938,\n",
              "       12.87422804, 12.89550345, 12.91599171, 12.93573553, 12.95477466,\n",
              "       12.97314602, 12.99088404, 13.00802083, 13.02458635, 13.04060862,\n",
              "       13.05611387, 13.07112666, 13.08567003, 13.09976561, 13.11343371,\n",
              "       13.12669345, 13.13956281, 13.15205877, 13.16419729, 13.17599347,\n",
              "       13.18746157, 13.19861506, 13.20946668, 13.22002851, 13.23031198,\n",
              "       13.24032793, 13.25008666, 13.25959793, 13.26887103, 13.27791477,\n",
              "       13.28673754, 13.29534734, 13.30375178, 13.3119581 , 13.31997323,\n",
              "       13.32780375, 13.33545597, 13.34293589, 13.35024928, 13.35740161,\n",
              "       13.36439815, 13.37124393, 13.37794375, 13.38450225, 13.39092383,\n",
              "       13.39721274, 13.40337303, 13.40940862, 13.41532325, -5.00125072])"
            ]
          },
          "metadata": {},
          "execution_count": 25
        }
      ]
    },
    {
      "cell_type": "markdown",
      "metadata": {
        "id": "pnRqCYomFqlQ"
      },
      "source": [
        "##Exact Answer"
      ]
    },
    {
      "cell_type": "code",
      "metadata": {
        "id": "DEKminVTEQL1"
      },
      "source": [
        "  z= np.zeros(200)\n",
        "  f= (m.exp(m.atan(-20)))**-1\n",
        "  for i in range(0 , 200-1):\n",
        "    z[i] = f * m.exp(m.atan(x[i]))\n"
      ],
      "execution_count": 26,
      "outputs": []
    },
    {
      "cell_type": "markdown",
      "metadata": {
        "id": "ZvoRelH_F_PD"
      },
      "source": [
        "## Modified vs Original"
      ]
    },
    {
      "cell_type": "code",
      "metadata": {
        "id": "238SB6xZGE30",
        "colab": {
          "base_uri": "https://localhost:8080/",
          "height": 573
        },
        "outputId": "3f5c5b93-e2da-4bf5-85a0-cf92c894d539"
      },
      "source": [
        "x= np.linspace(-20 , 20 , 200)\n",
        "y= np.zeros(200)\n",
        "A= rk4_step(equation, x, y, 0.2)\n",
        "B= rk4_stepd(equation, x, y, 0.2)"
      ],
      "execution_count": 27,
      "outputs": [
        {
          "output_type": "display_data",
          "data": {
            "image/png": "[encoded data removed]",
            "text/plain": [
              "<Figure size 432x288 with 1 Axes>"
            ]
          },
          "metadata": {
            "needs_background": "light"
          }
        },
        {
          "output_type": "display_data",
          "data": {
            "image/png": "[encoded data removed]",
            "text/plain": [
              "<Figure size 432x288 with 1 Axes>"
            ]
          },
          "metadata": {
            "needs_background": "light"
          }
        }
      ]
    },
    {
      "cell_type": "code",
      "metadata": {
        "colab": {
          "base_uri": "https://localhost:8080/"
        },
        "id": "rmGXsoTNHEkS",
        "outputId": "e1343f1f-17ed-4bb1-cbfe-5fba07c8dbe2"
      },
      "source": [
        "e1 = 0\n",
        "e2 = 0\n",
        "for i in range(0, 200-1):\n",
        "  e1 = e1 + (z[i] - A[i])**2\n",
        "  e2 = e2 +(z[i] - B[i])**2\n",
        "\n",
        "print (e1/200 - e2/200)\n"
      ],
      "execution_count": 28,
      "outputs": [
        {
          "output_type": "stream",
          "name": "stdout",
          "text": [
            "-10.189182436259467\n"
          ]
        }
      ]
    },
    {
      "cell_type": "code",
      "metadata": {
        "colab": {
          "base_uri": "https://localhost:8080/",
          "height": 295
        },
        "id": "pP9QbNgKIgEg",
        "outputId": "af7a8356-b5e3-4473-ec9c-f320aed5dfe0"
      },
      "source": [
        "plt.plot(z, label='Exact Answer')\n",
        "plt.plot(A, label='Original Stepper')\n",
        "plt.plot(B, label='Modified Stepper')\n",
        "plt.legend()\n",
        "plt.title('Original & Modified Stepper vs analytic answer')\n",
        "plt.xlabel('x')\n",
        "plt.ylabel('y')\n",
        "plt.show()"
      ],
      "execution_count": 29,
      "outputs": [
        {
          "output_type": "display_data",
          "data": {
            "image/png": "[encoded data removed]",
            "text/plain": [
              "<Figure size 432x288 with 1 Axes>"
            ]
          },
          "metadata": {
            "needs_background": "light"
          }
        }
      ]
    }
  ]
}